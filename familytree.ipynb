{
 "cells": [
  {
   "cell_type": "code",
   "execution_count": 90,
   "metadata": {},
   "outputs": [],
   "source": [
    "from typing import List, Dict\n",
    "\n",
    "class Info:\n",
    "    def __init__(self,\n",
    "                 name: str,\n",
    "                 ):\n",
    "        self.name = name\n",
    "        \n",
    "\n",
    "class Node:\n",
    "    def __init__(self, name):\n",
    "        self.name = name\n",
    "        self.spouse = \"?\"\n",
    "        self.bdate = \"?\"\n",
    "        self.ddate = \"?\"\n",
    "        self.child = []\n",
    "        \n",
    "def buildtree()->TreeNode:\n",
    "    root = Node(\"TinggangLin\")\n",
    "    subroot = Node(\"SongzhaoLin\")\n",
    "    subroot.spouse = \"LiyingSu\"\n",
    "    daughter = Node(\"JianhuaLin\")\n",
    "    daughter.spouse = \"JianqiangChen\"\n",
    "    daughter.child.append(Node(\"YuweiChen\"))\n",
    "    son = Node(\"DongmingLin\")\n",
    "    son.spouse = \"XiaojuChen\"\n",
    "    son.child.append(Node(\"XuwenLin\"))\n",
    "    subroot.child.append(daughter)\n",
    "    subroot.child.append(son)\n",
    "    root.child.append(subroot)\n",
    "    root.child.append(Node(\"SuijuanLin\"))\n",
    "    root.child.append(Node(\"SongguangLin\"))\n",
    "    \n",
    "    return root\n",
    "\n",
    "def findparent(root: Node, \n",
    "               parName1: str, \n",
    "               parName2: str\n",
    "              )->TreeNode:\n",
    "    parentNode = None\n",
    "    \n",
    "    if root is None:\n",
    "        return parentNode\n",
    "    \n",
    "    stack = []\n",
    "    stack.append(root)\n",
    "    \n",
    "    while stack:\n",
    "        currNode = stack.pop()\n",
    "        if currNode.name == parName1:\n",
    "            if parName2 != \"\" and currNode.spouse == parName2:\n",
    "                return currNode\n",
    "        \n",
    "        if currNode.child != []:\n",
    "            for ch in currNode.child:\n",
    "                stack.append(ch)\n",
    "                \n",
    "    return parentNode\n",
    "\n",
    "\n",
    "def addchild(parent: Node,\n",
    "             childname: str,\n",
    "             childspouse: str,\n",
    "             grandchild: List\n",
    "             )->bool:\n",
    "    if parent is None:\n",
    "        return False\n",
    "    \n",
    "    child = Node(childname)\n",
    "    child.spouse = childspouse\n",
    "    \n",
    "    for grdchild in grandchild:\n",
    "        child.child.append(Node(grdchild))\n",
    "    \n",
    "    for ch in parent.child:\n",
    "        if ch.name == childname:\n",
    "            return True\n",
    "        \n",
    "    parent.child.append(child)\n",
    "    \n",
    "    return True\n",
    "\n",
    "def editnode(parent: Node,\n",
    "             oldname: str,\n",
    "             newname: str,\n",
    "             oldspouse: str,\n",
    "             newspouse: str\n",
    "             )->bool:\n",
    "    if parent is None:\n",
    "        return False\n",
    "    \n",
    "    for ch in parent.child:\n",
    "        if ch.name == oldname:\n",
    "            ch.name = newname\n",
    "            if oldspouse != \"\" and newspouse != \"\":\n",
    "                ch.spouse = newspouse\n",
    "    return True\n",
    "    \n",
    "def delnode(parent: Node,\n",
    "            name: str\n",
    "            )->bool:\n",
    "    if parent is None:\n",
    "        return False\n",
    "    \n",
    "    numOfchild = len(parent.child)\n",
    "    noOfchild = -1\n",
    "    for idx in range(numOfchild):\n",
    "        if parent.child[idx].name == name:\n",
    "            noOfchild = idx\n",
    "            break\n",
    "    \n",
    "    if idx != -1:\n",
    "        parent.child.pop(idx)\n",
    "        return True\n",
    "    \n",
    "    return False\n",
    "    "
   ]
  },
  {
   "cell_type": "code",
   "execution_count": 91,
   "metadata": {},
   "outputs": [],
   "source": [
    "# To import queue datastructure\n",
    "import collections\n",
    " \n",
    "# Function for level Order Traversal\n",
    "def levelOrderTraversal(root: Node\n",
    "                       ) -> List:\n",
    "    ans = []\n",
    " \n",
    "    # Return Null if the tree is empty\n",
    "    if root is None:\n",
    "        return ans\n",
    "    \n",
    "    # Initialize queue \n",
    "    queue = collections.deque()\n",
    "    queue.append(root)\n",
    " \n",
    "    # Iterate over the queue until it's empty\n",
    "    while queue:\n",
    "        # Check the length of queue\n",
    "        currSize = len(queue)\n",
    "        currList = []\n",
    " \n",
    "        while currSize > 0:\n",
    "            # Dequeue element\n",
    "            currNode = queue.popleft()\n",
    "#             currList.append(currNode.name)\n",
    "            currList.append(currNode)\n",
    "            currSize -= 1\n",
    "            \n",
    "            # Check for child list\n",
    "            if currNode.child != []:\n",
    "                for ch in currNode.child:\n",
    "                    queue.append(ch)\n",
    "        \n",
    "        # Append the currList to answer after each iteration\n",
    "        ans.append(currList)\n",
    " \n",
    "    # Return answer list\n",
    "    return ans\n",
    " \n",
    "# # Check if the algorithm work\n",
    "# print(levelOrderTraversal(buildtree()))"
   ]
  },
  {
   "cell_type": "code",
   "execution_count": 92,
   "metadata": {},
   "outputs": [
    {
     "name": "stdout",
     "output_type": "stream",
     "text": [
      "True\n"
     ]
    }
   ],
   "source": [
    "root = buildtree()\n",
    "parNode = findparent(root, \"JianhuaLin\", \"JianqiangChen\")\n",
    "print(addchild(parNode, \"LilyChen\", \"MichaelZhou\", [\"WeeZhou\", \"YoloChen\"]))\n"
   ]
  },
  {
   "cell_type": "code",
   "execution_count": 59,
   "metadata": {},
   "outputs": [
    {
     "name": "stdout",
     "output_type": "stream",
     "text": [
      "True\n"
     ]
    }
   ],
   "source": [
    "print(editnode(parNode, \"LilyChen\", \"LucyChen\", \"\", \"\"))"
   ]
  },
  {
   "cell_type": "code",
   "execution_count": 53,
   "metadata": {},
   "outputs": [
    {
     "name": "stdout",
     "output_type": "stream",
     "text": [
      "True\n"
     ]
    }
   ],
   "source": [
    "print(delnode(parNode, \"LucyChen\"))"
   ]
  },
  {
   "cell_type": "code",
   "execution_count": 64,
   "metadata": {},
   "outputs": [
    {
     "name": "stdout",
     "output_type": "stream",
     "text": [
      "[['TinggangLin'], ['SongzhaoLin', 'SuijuanLin', 'SongguangLin'], ['JianhuaLin', 'DongmingLin'], ['YuweiChen', 'LilyChen', 'XuwenLin'], ['WeeZhou', 'YoloChen']]\n"
     ]
    }
   ],
   "source": [
    "print(levelOrderTraversal(root))"
   ]
  },
  {
   "cell_type": "code",
   "execution_count": 88,
   "metadata": {},
   "outputs": [
    {
     "name": "stdout",
     "output_type": "stream",
     "text": [
      "C:\\Users\\ASNPI9R\\Documents\\Projects\n"
     ]
    }
   ],
   "source": [
    "import os\n",
    "cwd = os.getcwd()\n",
    "print(cwd)\n",
    "\n",
    "def write2txt(lst: List[Node],\n",
    "              filename: str=\"linfamily.txt\"\n",
    "             )->bool:\n",
    "    if root is None or lst == []:\n",
    "        return False\n",
    "    try:\n",
    "        with open(os.path.join(cwd, filename), \"w\") as f:\n",
    "            line = \"\"\n",
    "            for n in range(len(lst)):\n",
    "                print(\"n: \", n)\n",
    "                for person in lst[n]:\n",
    "                    line += person.name + \" + \" + person.spouse + \"\\n\"\n",
    "                    if person.child != []:\n",
    "                        line += \" c: \"\n",
    "                        for ch in person.child:\n",
    "                            line += ch.name + \", \"\n",
    "                        line = line[:-2] + \"\\n\"\n",
    "                    line += f\" n: This is generation {n} in Lin's family\\n\"\n",
    "                    line += person.name + \"\\n\"\n",
    "                    line += \" l: ? - ?\\n\"\n",
    "                    line += \" n: put other info. here\\n\"\n",
    "            print(\"line: \\n\", line)\n",
    "            f.write(line)\n",
    "        return True\n",
    "    except Exception(e):\n",
    "        return False\n",
    " "
   ]
  },
  {
   "cell_type": "code",
   "execution_count": 89,
   "metadata": {},
   "outputs": [
    {
     "name": "stdout",
     "output_type": "stream",
     "text": [
      "n:  0\n",
      "n:  1\n",
      "n:  2\n",
      "n:  3\n",
      "n:  4\n",
      "line: \n",
      " TinggangLin + ?\n",
      " c: SongzhaoLin, SuijuanLin, SongguangLin\n",
      " n: This is generation 0 in Lin's family\n",
      "TinggangLin\n",
      " l: ? - ?\n",
      " n: put other info. here\n",
      "SongzhaoLin + LiyingSu\n",
      " c: JianhuaLin, DongmingLin\n",
      " n: This is generation 1 in Lin's family\n",
      "SongzhaoLin\n",
      " l: ? - ?\n",
      " n: put other info. here\n",
      "SuijuanLin + ?\n",
      " n: This is generation 1 in Lin's family\n",
      "SuijuanLin\n",
      " l: ? - ?\n",
      " n: put other info. here\n",
      "SongguangLin + ?\n",
      " n: This is generation 1 in Lin's family\n",
      "SongguangLin\n",
      " l: ? - ?\n",
      " n: put other info. here\n",
      "JianhuaLin + JianqiangChen\n",
      " c: YuweiChen, LilyChen\n",
      " n: This is generation 2 in Lin's family\n",
      "JianhuaLin\n",
      " l: ? - ?\n",
      " n: put other info. here\n",
      "DongmingLin + XiaojuChen\n",
      " c: XuwenLin\n",
      " n: This is generation 2 in Lin's family\n",
      "DongmingLin\n",
      " l: ? - ?\n",
      " n: put other info. here\n",
      "YuweiChen + ?\n",
      " n: This is generation 3 in Lin's family\n",
      "YuweiChen\n",
      " l: ? - ?\n",
      " n: put other info. here\n",
      "LilyChen + MichaelZhou\n",
      " c: WeeZhou, YoloChen\n",
      " n: This is generation 3 in Lin's family\n",
      "LilyChen\n",
      " l: ? - ?\n",
      " n: put other info. here\n",
      "XuwenLin + ?\n",
      " n: This is generation 3 in Lin's family\n",
      "XuwenLin\n",
      " l: ? - ?\n",
      " n: put other info. here\n",
      "WeeZhou + ?\n",
      " n: This is generation 4 in Lin's family\n",
      "WeeZhou\n",
      " l: ? - ?\n",
      " n: put other info. here\n",
      "YoloChen + ?\n",
      " n: This is generation 4 in Lin's family\n",
      "YoloChen\n",
      " l: ? - ?\n",
      " n: put other info. here\n",
      "\n",
      "True\n"
     ]
    }
   ],
   "source": [
    "print(write2txt(levelOrderTraversal(root)))"
   ]
  },
  {
   "cell_type": "code",
   "execution_count": 94,
   "metadata": {},
   "outputs": [],
   "source": [
    "def storeTree(root: Node,\n",
    "             export: str=\"tree.pickle\")->None:\n",
    "    import pickle\n",
    "    fw = open(export, \"wb\")\n",
    "    pickle.dump(root, fw)\n",
    "    fw.close()\n",
    "\n",
    "def grabTree(filename: str=\"tree.pickle\")->Node:\n",
    "    import pickle\n",
    "    fr = open(filename, \"rb\")\n",
    "    return pickle.load(fr)\n",
    "\n",
    "storeTree(root)\n",
    "new_root = grabTree()"
   ]
  },
  {
   "cell_type": "code",
   "execution_count": 98,
   "metadata": {},
   "outputs": [
    {
     "data": {
      "text/plain": [
       "'LiyingSu'"
      ]
     },
     "execution_count": 98,
     "metadata": {},
     "output_type": "execute_result"
    }
   ],
   "source": [
    "new_root.child[0].spouse\n"
   ]
  },
  {
   "cell_type": "code",
   "execution_count": null,
   "metadata": {},
   "outputs": [],
   "source": []
  }
 ],
 "metadata": {
  "kernelspec": {
   "display_name": "Python 3",
   "language": "python",
   "name": "python3"
  },
  "language_info": {
   "codemirror_mode": {
    "name": "ipython",
    "version": 3
   },
   "file_extension": ".py",
   "mimetype": "text/x-python",
   "name": "python",
   "nbconvert_exporter": "python",
   "pygments_lexer": "ipython3",
   "version": "3.7.0"
  }
 },
 "nbformat": 4,
 "nbformat_minor": 2
}
